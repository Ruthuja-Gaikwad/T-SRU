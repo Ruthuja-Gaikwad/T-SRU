{
  "nbformat": 4,
  "nbformat_minor": 0,
  "metadata": {
    "colab": {
      "provenance": [],
      "authorship_tag": "ABX9TyPOPXz62rrkFlc6id5hEqzz",
      "include_colab_link": true
    },
    "kernelspec": {
      "name": "python3",
      "display_name": "Python 3"
    },
    "language_info": {
      "name": "python"
    }
  },
  "cells": [
    {
      "cell_type": "markdown",
      "metadata": {
        "id": "view-in-github",
        "colab_type": "text"
      },
      "source": [
        "<a href=\"https://colab.research.google.com/github/Ruthuja-Gaikwad/T-SRU/blob/main/Training_13_05_2025.ipynb\" target=\"_parent\"><img src=\"https://colab.research.google.com/assets/colab-badge.svg\" alt=\"Open In Colab\"/></a>"
      ]
    },
    {
      "cell_type": "code",
      "execution_count": null,
      "metadata": {
        "colab": {
          "base_uri": "https://localhost:8080/"
        },
        "id": "TGUx8aFJFjNf",
        "outputId": "ea2f1613-c146-48b5-a89f-1b65727de401"
      },
      "outputs": [
        {
          "output_type": "stream",
          "name": "stdout",
          "text": [
            "1 2 3 4 5 6 7 8\n",
            "2\n",
            "4\n",
            "6\n",
            "8\n",
            "20\n"
          ]
        }
      ],
      "source": [
        "l=list(map(int,input().split()))\n",
        "s=0\n",
        "for i in range(0,len(l)):\n",
        "  if (i)%2==1:\n",
        "    if l[i]%2==0:\n",
        "      print(l[i])\n",
        "      s+=l[i]\n",
        "print(s)\n"
      ]
    },
    {
      "cell_type": "code",
      "source": [
        "l=list(map(int,input().split()))\n",
        "i,j=0,1\n",
        "c=0\n",
        "while j<len(l):\n",
        "  if l[i]<l[j]:\n",
        "    i+=1\n",
        "    j+=1\n",
        "    c+=1\n",
        "  else:\n",
        "    j+=1\n",
        "print(c)"
      ],
      "metadata": {
        "colab": {
          "base_uri": "https://localhost:8080/"
        },
        "id": "G6chYfowHRyK",
        "outputId": "26fd0ed4-0ca7-4ea2-a001-ba8532b2faae"
      },
      "execution_count": null,
      "outputs": [
        {
          "output_type": "stream",
          "name": "stdout",
          "text": [
            "2 3 4 3 2 3 5 4 2\n",
            "4\n"
          ]
        }
      ]
    },
    {
      "cell_type": "code",
      "source": [
        "n=int(input())\n",
        "l=list(map(int,input().split()))\n",
        "s=c=0\n",
        "for i in l:\n",
        "  if i>0:\n",
        "    s+=i\n",
        "  else:\n",
        "    if s>0:\n",
        "      s-=1\n",
        "    else:\n",
        "      c+=1\n",
        "print(c)"
      ],
      "metadata": {
        "colab": {
          "base_uri": "https://localhost:8080/"
        },
        "id": "m-JZX7VUN2RC",
        "outputId": "450172fb-3820-45c6-d7c6-398cc3709152"
      },
      "execution_count": null,
      "outputs": [
        {
          "output_type": "stream",
          "name": "stdout",
          "text": [
            "8\n",
            "1 -1 1 -1 -1 1 1 1\n",
            "1\n"
          ]
        }
      ]
    },
    {
      "cell_type": "code",
      "source": [
        "n=int(input())\n",
        "v=list(map(int,input().split()))\n",
        "a=list(map(int,input().split()))\n",
        "t = {value: 0 for value in v}\n",
        "i=j=0\n",
        "while i<len(v) and j<len(a):\n",
        "  if a[j]>=18:\n",
        "    t[v[i]] +=1\n",
        "  i+=1\n",
        "  j+=1\n",
        "print(t)\n",
        "c=0\n",
        "for i,j in t.items():\n",
        "  if j==max(t.values()):\n",
        "    c+=1\n",
        "if c>1:\n",
        "  print(-1)\n",
        "else:\n",
        "  print(max(t.values()))\n",
        "\n"
      ],
      "metadata": {
        "colab": {
          "base_uri": "https://localhost:8080/"
        },
        "id": "9ZCMbrUBW6m1",
        "outputId": "42445520-10d1-42ed-89e0-109e72d1e711"
      },
      "execution_count": null,
      "outputs": [
        {
          "output_type": "stream",
          "name": "stdout",
          "text": [
            "5\n",
            "1 2 3 1 2\n",
            "17 21 20 19 16\n",
            "{1: 1, 2: 1, 3: 1}\n",
            "-1\n"
          ]
        }
      ]
    },
    {
      "cell_type": "code",
      "source": [
        "n=int(input())\n",
        "a=bin(n)\n",
        "if a[-1]=='1':\n",
        "  print(\"odd\")\n",
        "else:\n",
        "  print(\"even\")\n"
      ],
      "metadata": {
        "colab": {
          "base_uri": "https://localhost:8080/"
        },
        "id": "Ref1CKiobhfV",
        "outputId": "e92a64a3-6bba-465c-dab0-fc9116d62752"
      },
      "execution_count": null,
      "outputs": [
        {
          "output_type": "stream",
          "name": "stdout",
          "text": [
            "78\n",
            "even\n"
          ]
        }
      ]
    },
    {
      "cell_type": "code",
      "source": [
        "a,b = map(int,input().split())\n",
        "a=a^b\n",
        "b=a^b\n",
        "a=a^b\n",
        "print(a,b)"
      ],
      "metadata": {
        "colab": {
          "base_uri": "https://localhost:8080/"
        },
        "id": "jjX68-VgyYuJ",
        "outputId": "f72ff480-19e8-47bf-a65c-f6d61c134786"
      },
      "execution_count": null,
      "outputs": [
        {
          "output_type": "stream",
          "name": "stdout",
          "text": [
            "7 5\n",
            "5 7\n"
          ]
        }
      ]
    },
    {
      "cell_type": "code",
      "source": [
        "n=int(input())\n",
        "if 1&n==0:\n",
        "  print(\"even\")\n",
        "else:\n",
        "  print(\"odd\")"
      ],
      "metadata": {
        "colab": {
          "base_uri": "https://localhost:8080/"
        },
        "id": "dWHSeSMqzh_I",
        "outputId": "8f95c2cd-dd46-4060-a789-89d523b78e6f"
      },
      "execution_count": null,
      "outputs": [
        {
          "output_type": "stream",
          "name": "stdout",
          "text": [
            "78\n",
            "even\n"
          ]
        }
      ]
    },
    {
      "cell_type": "code",
      "source": [
        "l=[1,2,3,4,5,6]\n",
        "for i in l:\n",
        "  l.remove(i)\n",
        "print(l)"
      ],
      "metadata": {
        "colab": {
          "base_uri": "https://localhost:8080/"
        },
        "id": "QhFfNeok0h_4",
        "outputId": "320da410-7d5b-4e26-c44c-952527cf01ed"
      },
      "execution_count": null,
      "outputs": [
        {
          "output_type": "stream",
          "name": "stdout",
          "text": [
            "[2, 4, 6]\n"
          ]
        }
      ]
    },
    {
      "cell_type": "code",
      "source": [
        "#we can extend a single number in the list"
      ],
      "metadata": {
        "id": "p77dCrwE7MSH"
      },
      "execution_count": null,
      "outputs": []
    },
    {
      "cell_type": "code",
      "source": [
        "l=[1,2,3,4,5,6]\n",
        "l.extend([1,2,3])\n",
        "l.append([1,2,3,4])\n",
        "l.extend(1)#error\n",
        "l.extend([1])# no error\n",
        "print(len(l))"
      ],
      "metadata": {
        "colab": {
          "base_uri": "https://localhost:8080/"
        },
        "id": "yg2KiZEZ7PwN",
        "outputId": "5d1f5a6e-d8cd-4ae8-9aad-c4975c740373"
      },
      "execution_count": null,
      "outputs": [
        {
          "output_type": "stream",
          "name": "stdout",
          "text": [
            "11\n"
          ]
        }
      ]
    },
    {
      "cell_type": "code",
      "source": [
        "#1^2^3^3...etc\n",
        "#duplicates,missing,a^a=0\n",
        "#a^0=a,a^1=n-1\n",
        "n=int(input())\n",
        "if n%4==1:\n",
        "  print(1)\n",
        "elif n%4==2:\n",
        "  print(n+1)\n",
        "elif n%4==3:\n",
        "  print(0)\n",
        "else:\n",
        "  print(n)\n",
        "# l to r xor\n",
        "# 0 to r xor - 0 to l"
      ],
      "metadata": {
        "colab": {
          "base_uri": "https://localhost:8080/"
        },
        "id": "MrH3aBhI7xYR",
        "outputId": "1a81ee85-2fea-490e-d066-44b48fc76489"
      },
      "execution_count": null,
      "outputs": [
        {
          "output_type": "stream",
          "name": "stdout",
          "text": [
            "6\n"
          ]
        }
      ]
    },
    {
      "cell_type": "code",
      "source": [
        "print(2^4)"
      ],
      "metadata": {
        "colab": {
          "base_uri": "https://localhost:8080/"
        },
        "id": "K8rL0iWj-IIp",
        "outputId": "e1765585-ade3-43cb-d2c1-76f12aa345e1"
      },
      "execution_count": null,
      "outputs": [
        {
          "output_type": "stream",
          "name": "stdout",
          "text": [
            "6\n"
          ]
        }
      ]
    },
    {
      "cell_type": "code",
      "source": [
        "def fun(n,k):\n",
        "  if n==0:\n",
        "    return\n",
        "  print(k-(n-1))\n",
        "  fun(n-1,k)\n",
        "fun(5,5)\n",
        "def fun(n):\n",
        "  if n==1:\n",
        "    return\n",
        "  print(n-1)\n",
        "  fun(n-1)\n",
        "fun(5)\n"
      ],
      "metadata": {
        "colab": {
          "base_uri": "https://localhost:8080/"
        },
        "id": "bI1CHfBF98Ti",
        "outputId": "60a017ba-7122-4d0a-d55d-2d0c15eb5214"
      },
      "execution_count": null,
      "outputs": [
        {
          "output_type": "stream",
          "name": "stdout",
          "text": [
            "1\n",
            "2\n",
            "3\n",
            "4\n",
            "5\n",
            "4\n",
            "3\n",
            "2\n",
            "1\n"
          ]
        }
      ]
    },
    {
      "cell_type": "markdown",
      "source": [
        "**Recursions**"
      ],
      "metadata": {
        "id": "3sCA6VpkRYsJ"
      }
    },
    {
      "cell_type": "code",
      "source": [
        "def fun(n,l,h):\n",
        "  if n==0:\n",
        "    return\n",
        "  if h>=n:\n",
        "    print(h-(n-1))\n",
        "  fun(n-1,l,h)\n",
        "  if l<=n:\n",
        "    print(l+(n-1))\n",
        "fun(5,1,5)\n",
        "\n"
      ],
      "metadata": {
        "colab": {
          "base_uri": "https://localhost:8080/"
        },
        "id": "qcG4x_hnLP1I",
        "outputId": "751b2609-e0cc-4422-dc84-c46371bce7a6"
      },
      "execution_count": null,
      "outputs": [
        {
          "output_type": "stream",
          "name": "stdout",
          "text": [
            "1\n",
            "2\n",
            "3\n",
            "4\n",
            "5\n",
            "1\n",
            "2\n",
            "3\n",
            "4\n",
            "5\n"
          ]
        }
      ]
    },
    {
      "cell_type": "code",
      "source": [
        "def fun(n,l,h):\n",
        "  if n==0:\n",
        "    return\n",
        "  if h>=n:\n",
        "    print(h-(n-1))\n",
        "  fun(n-1,l,h)\n",
        "  if l<n:\n",
        "    print(h-(n-1))\n",
        "fun(5,1,5)"
      ],
      "metadata": {
        "colab": {
          "base_uri": "https://localhost:8080/"
        },
        "id": "-1zjhJliMEhA",
        "outputId": "7f41cf8f-2e0c-4e15-e51e-796889cfe033"
      },
      "execution_count": null,
      "outputs": [
        {
          "output_type": "stream",
          "name": "stdout",
          "text": [
            "1\n",
            "2\n",
            "3\n",
            "4\n",
            "5\n",
            "4\n",
            "3\n",
            "2\n",
            "1\n"
          ]
        }
      ]
    },
    {
      "cell_type": "code",
      "source": [
        "def fun(n):\n",
        "  if n==0:\n",
        "    return 200\n",
        "  print(n,end=\" \")\n",
        "  fun(n-1)\n",
        "print(fun(5))"
      ],
      "metadata": {
        "colab": {
          "base_uri": "https://localhost:8080/"
        },
        "id": "1yde-ZTQBqap",
        "outputId": "333b94f6-9e46-48c5-fe37-f710af9961ff"
      },
      "execution_count": null,
      "outputs": [
        {
          "output_type": "stream",
          "name": "stdout",
          "text": [
            "5 4 3 2 1 None\n"
          ]
        }
      ]
    },
    {
      "cell_type": "code",
      "source": [
        "def fun(n):\n",
        "  if n==0:\n",
        "    return 200\n",
        "  print(n,end=\" \")\n",
        "  t=fun(n-1)\n",
        "  return t\n",
        "print(fun(5))"
      ],
      "metadata": {
        "colab": {
          "base_uri": "https://localhost:8080/"
        },
        "id": "zygTqOA0Hx1_",
        "outputId": "6289dfae-8d5d-47ad-ed3e-8ebf568abc2a"
      },
      "execution_count": null,
      "outputs": [
        {
          "output_type": "stream",
          "name": "stdout",
          "text": [
            "5 4 3 2 1 200\n"
          ]
        }
      ]
    },
    {
      "cell_type": "code",
      "source": [
        "def fun(n):\n",
        "  if n==0:\n",
        "    return\n",
        "  if n%2==1:\n",
        "    print(n,end=\" \")\n",
        "  fun(n-1)\n",
        "  if n==1:\n",
        "    return\n",
        "  if n%2==1:\n",
        "    print(n,end=\" \")\n",
        "\n",
        "fun(5)"
      ],
      "metadata": {
        "colab": {
          "base_uri": "https://localhost:8080/"
        },
        "id": "7k5DT4nfJEow",
        "outputId": "6e956e24-505d-41c5-f85e-bda8b69efe00"
      },
      "execution_count": null,
      "outputs": [
        {
          "output_type": "stream",
          "name": "stdout",
          "text": [
            "5 3 1 3 5 "
          ]
        }
      ]
    },
    {
      "cell_type": "code",
      "source": [
        "def fun(n):\n",
        "  if n==0:\n",
        "    return\n",
        "  fun(n-1)\n",
        "  print(n,end=' ')\n",
        "fun(10)"
      ],
      "metadata": {
        "colab": {
          "base_uri": "https://localhost:8080/"
        },
        "id": "UQyDuECBRODy",
        "outputId": "807fd044-4f8e-4cbf-ceac-08f0e8703489"
      },
      "execution_count": null,
      "outputs": [
        {
          "output_type": "stream",
          "name": "stdout",
          "text": [
            "1 2 3 4 5 6 7 8 9 10 "
          ]
        }
      ]
    },
    {
      "cell_type": "code",
      "source": [
        "def fun(n):\n",
        "  if n==0:\n",
        "    return\n",
        "  fun(n-1)\n",
        "  if n%2==1:\n",
        "    print(n,end=' ')\n",
        "fun(100)"
      ],
      "metadata": {
        "colab": {
          "base_uri": "https://localhost:8080/"
        },
        "id": "4JOsDIZTRwOh",
        "outputId": "bdea0581-cdcd-4abf-fbb4-4783ba8ae454"
      },
      "execution_count": null,
      "outputs": [
        {
          "output_type": "stream",
          "name": "stdout",
          "text": [
            "1 3 5 7 9 11 13 15 17 19 21 23 25 27 29 31 33 35 37 39 41 43 45 47 49 51 53 55 57 59 61 63 65 67 69 71 73 75 77 79 81 83 85 87 89 91 93 95 97 99 "
          ]
        }
      ]
    },
    {
      "cell_type": "code",
      "source": [
        "def fun(n):\n",
        "  if n==0:\n",
        "    return\n",
        "  fun(n-1)\n",
        "  if n%2==0:\n",
        "    print(n,end=' ')\n",
        "fun(100)"
      ],
      "metadata": {
        "colab": {
          "base_uri": "https://localhost:8080/"
        },
        "id": "MZweZHFqR_T_",
        "outputId": "2d9c75ec-c1b7-4d78-dddf-9b2428b2b949"
      },
      "execution_count": null,
      "outputs": [
        {
          "output_type": "stream",
          "name": "stdout",
          "text": [
            "2 4 6 8 10 12 14 16 18 20 22 24 26 28 30 32 34 36 38 40 42 44 46 48 50 52 54 56 58 60 62 64 66 68 70 72 74 76 78 80 82 84 86 88 90 92 94 96 98 100 "
          ]
        }
      ]
    },
    {
      "cell_type": "code",
      "source": [
        "def fun(n):\n",
        "  if n==1:\n",
        "    return 1\n",
        "  result = n * fun(n-1)\n",
        "  print(result,end=' ')\n",
        "  return result\n",
        "fun(5)"
      ],
      "metadata": {
        "colab": {
          "base_uri": "https://localhost:8080/"
        },
        "id": "SBE4BFPaSH_9",
        "outputId": "e2548b77-b51d-4f10-8455-b8150118f0ad"
      },
      "execution_count": null,
      "outputs": [
        {
          "output_type": "stream",
          "name": "stdout",
          "text": [
            "2 6 24 120 "
          ]
        },
        {
          "output_type": "execute_result",
          "data": {
            "text/plain": [
              "120"
            ]
          },
          "metadata": {},
          "execution_count": 2
        }
      ]
    },
    {
      "cell_type": "code",
      "source": [
        "def prime(n, i=2):\n",
        "  if n < 2:\n",
        "    return False\n",
        "  if i >= n**1/2:\n",
        "    return True\n",
        "  if n % i == 0:\n",
        "    return False\n",
        "  return prime(n, i + 1);\n",
        "if prime(7):\n",
        "  print(\"is a prime number\")\n",
        "else:\n",
        "  print(\"is not a prime number\")\n"
      ],
      "metadata": {
        "colab": {
          "base_uri": "https://localhost:8080/"
        },
        "id": "f20snNNoZLVj",
        "outputId": "c1066ac6-f2f1-4568-d2c0-9151b3fc4444"
      },
      "execution_count": null,
      "outputs": [
        {
          "output_type": "stream",
          "name": "stdout",
          "text": [
            "is a prime number\n"
          ]
        }
      ]
    },
    {
      "cell_type": "code",
      "source": [
        "def fact(n,a=0,b=1):\n",
        "  if n==0:\n",
        "    return\n",
        "  c=a+b\n",
        "  print(c)\n",
        "  fact(n-1,b,c)\n",
        "fact(5)"
      ],
      "metadata": {
        "colab": {
          "base_uri": "https://localhost:8080/"
        },
        "id": "5vpHNniLZ2fP",
        "outputId": "5dbeccdd-d043-4603-e935-997941baf788"
      },
      "execution_count": null,
      "outputs": [
        {
          "output_type": "stream",
          "name": "stdout",
          "text": [
            "1\n",
            "2\n",
            "3\n",
            "5\n",
            "8\n"
          ]
        }
      ]
    },
    {
      "cell_type": "code",
      "source": [
        "def fun(n):\n",
        "  if n==1:\n",
        "    return 0\n",
        "  elif n%2==0:\n",
        "    return 1+fun(n//2)\n",
        "  else:\n",
        "    return 1+min(fun(n-1),fun(n+1))\n",
        "n=15\n",
        "print(fun(n))"
      ],
      "metadata": {
        "id": "tLlJ98hxa_On",
        "colab": {
          "base_uri": "https://localhost:8080/"
        },
        "outputId": "74bc6e9a-19d0-43b5-dfaa-7cd15d07bbce"
      },
      "execution_count": null,
      "outputs": [
        {
          "output_type": "stream",
          "name": "stdout",
          "text": [
            "5\n"
          ]
        }
      ]
    },
    {
      "cell_type": "code",
      "source": [
        "def summ(l,i=0):\n",
        "  if i==len(l):\n",
        "    return 0\n",
        "  return l[i]+summ(l,i+1)\n",
        "l=[1,2,3,4,5,6]\n",
        "print(summ(l))\n"
      ],
      "metadata": {
        "colab": {
          "base_uri": "https://localhost:8080/"
        },
        "id": "txULvZTf3SHz",
        "outputId": "536578b0-8c72-4bf8-a5c1-65c297935fe6"
      },
      "execution_count": null,
      "outputs": [
        {
          "output_type": "stream",
          "name": "stdout",
          "text": [
            "21\n"
          ]
        }
      ]
    },
    {
      "cell_type": "code",
      "source": [
        "#sum of prime number in a list using recurssion\n",
        "def is_prime(n, i=2):\n",
        "    if n <= 1:\n",
        "        return False\n",
        "    if i * i > n:\n",
        "        return True\n",
        "    if n % i == 0:\n",
        "        return False\n",
        "    return is_prime(n, i + 1)\n",
        "\n",
        "def fun(l,i=0):\n",
        "  if i==len(l):\n",
        "    return 0\n",
        "  if is_prime(l[i]):\n",
        "    return 1+fun(l,i+1)\n",
        "  else:\n",
        "    return fun(l,i+1)\n",
        "n=[1,2,3,4,5,6,7,8,9]\n",
        "print(fun(n))"
      ],
      "metadata": {
        "colab": {
          "base_uri": "https://localhost:8080/"
        },
        "id": "7jJ18et853eC",
        "outputId": "08c9306a-4fec-464f-d7c5-ea1c88f575ac"
      },
      "execution_count": null,
      "outputs": [
        {
          "output_type": "stream",
          "name": "stdout",
          "text": [
            "4\n"
          ]
        }
      ]
    }
  ]
}