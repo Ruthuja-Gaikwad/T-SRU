{
  "nbformat": 4,
  "nbformat_minor": 0,
  "metadata": {
    "colab": {
      "provenance": [],
      "authorship_tag": "ABX9TyOs5fVcZvTrKqPWJmebCCEv",
      "include_colab_link": true
    },
    "kernelspec": {
      "name": "python3",
      "display_name": "Python 3"
    },
    "language_info": {
      "name": "python"
    }
  },
  "cells": [
    {
      "cell_type": "markdown",
      "metadata": {
        "id": "view-in-github",
        "colab_type": "text"
      },
      "source": [
        "<a href=\"https://colab.research.google.com/github/Ruthuja-Gaikwad/T-SRU/blob/main/16_05_2025.ipynb\" target=\"_parent\"><img src=\"https://colab.research.google.com/assets/colab-badge.svg\" alt=\"Open In Colab\"/></a>"
      ]
    },
    {
      "cell_type": "code",
      "execution_count": null,
      "metadata": {
        "colab": {
          "base_uri": "https://localhost:8080/"
        },
        "id": "gq8Hwa_yPw6V",
        "outputId": "31948634-6da7-42f8-e28c-a16a713aaeb1"
      },
      "outputs": [
        {
          "output_type": "stream",
          "name": "stdout",
          "text": [
            "1\n",
            "2\n",
            "3\n",
            "4\n",
            "5\n",
            "6\n",
            "7\n",
            "8\n",
            "9\n",
            "45\n"
          ]
        },
        {
          "output_type": "execute_result",
          "data": {
            "text/plain": [
              "25"
            ]
          },
          "metadata": {},
          "execution_count": 7
        }
      ],
      "source": [
        "a=[[0 for j in range(3)] for i in range(3)]\n",
        "for i in range(3):\n",
        "  for j in range(3):\n",
        "    a[i][j]=int(input())\n",
        "sum=0\n",
        "for i in range(3):\n",
        "  for j in range(3):\n",
        "    sum+=a[i][j]\n",
        "print(sum)\n",
        "\n"
      ]
    },
    {
      "cell_type": "code",
      "source": [
        "def back(a,n,m):\n",
        "  a[n][m]=-1\n",
        "  dr=[(1,0),(-1,0),(0,1),(0,-1)]\n",
        "  for i,j in dr:\n",
        "    if(n+i>=0 and n+i<4 and m+j>=0 and m+j<5 and a[n+i][m+j]==1):\n",
        "      back(a,n+i,m+j)\n",
        "  return a\n",
        "a=[[1,1,1,0,1],[0,1,1,1,0],[0,0,0,1,0],[1,1,0,0,1]]\n",
        "back(a,0,1)\n",
        "s=0\n",
        "for i in range(4):\n",
        "  for j in range(5):\n",
        "    if(a[i][j]==1):\n",
        "      s+=1\n",
        "print(s)"
      ],
      "metadata": {
        "colab": {
          "base_uri": "https://localhost:8080/"
        },
        "id": "frm25Py-hblb",
        "outputId": "d412497b-63ea-4989-a540-f691e5dc188c"
      },
      "execution_count": null,
      "outputs": [
        {
          "output_type": "stream",
          "name": "stdout",
          "text": [
            "4\n"
          ]
        }
      ]
    },
    {
      "cell_type": "code",
      "source": [
        "def bin(n,res=\"\",o=0,c=0):\n",
        "  if o==n and c==n:\n",
        "    print(res,end=\" \")\n",
        "    return\n",
        "  if o<n:\n",
        "    bin(n,res+\"(\",o+1,c)\n",
        "  if c<o:\n",
        "    bin(n,res+\")\",o,c+1)\n",
        "bin(3)"
      ],
      "metadata": {
        "colab": {
          "base_uri": "https://localhost:8080/"
        },
        "id": "l3Sq_c9NmYXM",
        "outputId": "aca4c793-9c1b-4c77-d34f-917a5e31221d"
      },
      "execution_count": null,
      "outputs": [
        {
          "output_type": "stream",
          "name": "stdout",
          "text": [
            "((())) (()()) (())() ()(()) ()()() "
          ]
        }
      ]
    },
    {
      "cell_type": "code",
      "source": [],
      "metadata": {
        "id": "fe97qYyePXkb"
      },
      "execution_count": null,
      "outputs": []
    }
  ]
}